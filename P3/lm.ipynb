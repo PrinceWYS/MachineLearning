{
 "cells": [
  {
   "cell_type": "markdown",
   "metadata": {},
   "source": [
    "### Preparation of Project\n",
    "Import necessary libraries for this language project."
   ]
  },
  {
   "cell_type": "code",
   "execution_count": 1,
   "metadata": {},
   "outputs": [],
   "source": [
    "import torch\n",
    "import torch.nn as nn\n",
    "from torch.nn import functional as F\n",
    "\n",
    "from transformers import LlamaTokenizer\n",
    "\n",
    "import matplotlib.pyplot as plt\n",
    "import numpy as np"
   ]
  },
  {
   "cell_type": "markdown",
   "metadata": {},
   "source": [
    "Configure parameters and settings for the model.\n",
    "- `batch_size`: the batch size to 100, which means that 100 samples will be processed together in each iteration of training\n",
    "- `block_size`: the size of a block of data processing units\n",
    "- `max_iters`: the maximum number of iterations the training process should run\n",
    "- `eval_intervals`: the evaluation interval, meaning the model will be evaluated every 500 iterations\n",
    "- `learning_rate`: the learning rate for the optimizer\n",
    "- `eval_iters`: the amount of iterations used in the loss function\n",
    "- `n_embd`, `n_head`, `n_layer`: number of embedding dimensions, number of attention heads, number of layers"
   ]
  },
  {
   "cell_type": "code",
   "execution_count": 2,
   "metadata": {},
   "outputs": [
    {
     "data": {
      "text/plain": [
       "<torch._C.Generator at 0x7f21e9ee9b70>"
      ]
     },
     "execution_count": 2,
     "metadata": {},
     "output_type": "execute_result"
    }
   ],
   "source": [
    "batch_size = 64\n",
    "block_size = 256\n",
    "max_iters = 5000\n",
    "eval_interval = 500\n",
    "learning_rate = 4e-5\n",
    "device = 'cuda' if torch.cuda.is_available() else 'cpu'\n",
    "eval_iters = 200\n",
    "n_embd = 384\n",
    "n_head = 6\n",
    "n_layer = 6\n",
    "dropout = 0.2\n",
    "torch.manual_seed(1337)"
   ]
  },
  {
   "cell_type": "markdown",
   "metadata": {},
   "source": [
    "Create datesets\n",
    "\n",
    "The training dataset is downloaded at \"`${path to the project}/P3/data`\"(https://www.kaggle.com/datasets/thedevastator/the-bards-best-a-character-modeling-dataset). Read the dataset from it and encode it into `torch.long` type using Llama2 tokennizer."
   ]
  },
  {
   "cell_type": "code",
   "execution_count": 3,
   "metadata": {},
   "outputs": [],
   "source": [
    "# Dataset\n",
    "with open('./data/train.csv', 'r', encoding='UTF-8') as f:\n",
    "    train_text = f.read()\n",
    "\n",
    "with open('./data/test.csv', 'r', encoding='UTF-8') as f:\n",
    "    test_text = f.read()\n",
    "\n",
    "with open('./data/validation.csv', 'r', encoding='UTF-8') as f:\n",
    "    val_text = f.read()\n"
   ]
  },
  {
   "cell_type": "markdown",
   "metadata": {},
   "source": [
    "Using tokenizer of Llama2(please download your Llama2 pretrained model to \"`${path to the project}/P3/ckpts`\")"
   ]
  },
  {
   "cell_type": "code",
   "execution_count": 4,
   "metadata": {},
   "outputs": [],
   "source": [
    "# Tokenizer\n",
    "tokenizer = LlamaTokenizer.from_pretrained('./ckpts/Llama2-7b-hf/')\n",
    "# chars = sorted(list(set(train_text + test_text + val_text)))\n",
    "# vocab_size = len(chars)\n",
    "vocab_size = tokenizer.vocab_size\n",
    "\n",
    "encode = lambda s: tokenizer.encode(s, add_special_tokens=False) # Encoder\n",
    "decode = lambda l: tokenizer.decode(l, add_special_tokens=False) # Decoder"
   ]
  },
  {
   "cell_type": "markdown",
   "metadata": {},
   "source": [
    "Encode data"
   ]
  },
  {
   "cell_type": "code",
   "execution_count": 5,
   "metadata": {},
   "outputs": [],
   "source": [
    "train_data = torch.tensor(encode(train_text), dtype=torch.long)\n",
    "val_data = torch.tensor(encode(val_text), dtype=torch.long)"
   ]
  },
  {
   "cell_type": "markdown",
   "metadata": {},
   "source": [
    "### Self Attention\n",
    "\n",
    "Class `Head` is a self-attention head. This code essentially defines a module that performs self-attention operation in the transformer architecture."
   ]
  },
  {
   "cell_type": "code",
   "execution_count": 6,
   "metadata": {},
   "outputs": [],
   "source": [
    "class Head(nn.Module):\n",
    "    def __init__(self, head_size):\n",
    "        super().__init__()\n",
    "        self.key = nn.Linear(n_embd, head_size, bias=False)\n",
    "        self.query = nn.Linear(n_embd, head_size, bias=False)\n",
    "        self.value = nn.Linear(n_embd, head_size, bias=False)\n",
    "        self.register_buffer('tril', torch.tril(torch.ones(block_size, block_size)))\n",
    "        \n",
    "        self.dropout = nn.Dropout(dropout)\n",
    "\n",
    "    def forward(self, x):\n",
    "        B,T,C = x.shape\n",
    "        k = self.key(x)   # (B,T,hs)\n",
    "        q = self.query(x) # (B,T,hs)\n",
    "        wei = q @ k.transpose(-2,-1) * k.shape[-1]**-0.5\n",
    "        wei = wei.masked_fill(self.tril[:T, :T] == 0, float('-inf'))\n",
    "        wei = F.softmax(wei, dim=-1)\n",
    "        wei = self.dropout(wei)\n",
    "        v = self.value(x)\n",
    "        out = wei @ v\n",
    "        return out"
   ]
  },
  {
   "cell_type": "markdown",
   "metadata": {},
   "source": [
    "Class `MultiHeadAttention` defines the code of multiple heads in parallel."
   ]
  },
  {
   "cell_type": "code",
   "execution_count": 7,
   "metadata": {},
   "outputs": [],
   "source": [
    "class MultiHeadAttention(nn.Module):\n",
    "    def __init__(self, num_heads, head_size):\n",
    "        super().__init__()\n",
    "        # Added the possibility to add heads per parameter and loop. That's it.\n",
    "        self.heads = nn.ModuleList([Head(head_size) for _ in range(num_heads)])\n",
    "        self.proj = nn.Linear(head_size * num_heads, n_embd)\n",
    "        self.dropout = nn.Dropout(dropout)\n",
    "\n",
    "    def forward(self, x):\n",
    "        out = torch.cat([h(x) for h in self.heads], dim=-1)\n",
    "        out = self.dropout(self.proj(out))\n",
    "        return out"
   ]
  },
  {
   "cell_type": "markdown",
   "metadata": {},
   "source": [
    "### Feed Forward\n",
    "This module essentially performs a feedforward operation with a neural network that has two hidden layers and includes a dropout layer. It’s a feedforward architecture used in neural networks."
   ]
  },
  {
   "cell_type": "code",
   "execution_count": 8,
   "metadata": {},
   "outputs": [],
   "source": [
    "class FeedFoward(nn.Module):\n",
    "    def __init__(self, n_embd):\n",
    "        super().__init__()\n",
    "        self.net = nn.Sequential(\n",
    "            nn.Linear(n_embd, 4 * n_embd),\n",
    "            nn.ReLU(),\n",
    "            nn.Linear(4 * n_embd, n_embd),\n",
    "            nn.Dropout(dropout),\n",
    "        )\n",
    "\n",
    "    def forward(self, x):\n",
    "        return self.net(x)"
   ]
  },
  {
   "cell_type": "markdown",
   "metadata": {},
   "source": [
    "### Block\n",
    "A transformer block that first allows communcation between tokens and then computation"
   ]
  },
  {
   "cell_type": "code",
   "execution_count": 9,
   "metadata": {},
   "outputs": [],
   "source": [
    "class Block(nn.Module):\n",
    "    def __init__(self, n_embd, n_head):\n",
    "        super().__init__()\n",
    "        head_size = n_embd // n_head\n",
    "        self.sa = MultiHeadAttention(n_head, head_size)\n",
    "        self.ffwd = FeedFoward(n_embd)\n",
    "        self.ln1 = nn.LayerNorm(n_embd)\n",
    "        self.ln2 = nn.LayerNorm(n_embd)\n",
    "\n",
    "    def forward(self, x):\n",
    "        x = x + self.sa(self.ln1(x))\n",
    "        x = x + self.ffwd(self.ln2(x))\n",
    "        return x"
   ]
  },
  {
   "cell_type": "markdown",
   "metadata": {},
   "source": [
    "### Language Model\n",
    "This language model combines token embedding, positional embedding, and multiple Transformer modules."
   ]
  },
  {
   "cell_type": "code",
   "execution_count": 10,
   "metadata": {},
   "outputs": [],
   "source": [
    "class LanguageModel(nn.Module):\n",
    "\n",
    "    def __init__(self):\n",
    "        super().__init__()\n",
    "        self.token_embedding_table = nn.Embedding(vocab_size, n_embd)\n",
    "        self.position_embedding_table = nn.Embedding(block_size, n_embd)\n",
    "        # Added the possibility to add heads per parameter and loop. That's it.\n",
    "        self.blocks = nn.Sequential(*[Block(n_embd, n_head=n_head) for _ in range(n_layer)])\n",
    "        self.ln_f = nn.LayerNorm(n_embd)\n",
    "        self.lm_head = nn.Linear(n_embd, vocab_size)\n",
    "\n",
    "    def forward(self, idx, targets=None):\n",
    "        B, T = idx.shape\n",
    "        tok_emb = self.token_embedding_table(idx)\n",
    "        pos_emb = self.position_embedding_table(torch.arange(T, device=device))\n",
    "        x = tok_emb + pos_emb\n",
    "        x = self.blocks(x)\n",
    "        x = self.ln_f(x)\n",
    "        logits = self.lm_head(x)\n",
    "\n",
    "        if targets is None:\n",
    "            loss = None\n",
    "        else:\n",
    "            B, T, C = logits.shape\n",
    "            logits = logits.view(B*T, C)\n",
    "            targets = targets.view(B*T)\n",
    "            loss = F.cross_entropy(logits, targets)\n",
    "\n",
    "        return logits, loss\n",
    "\n",
    "    def generate(self, idx, max_new_tokens):\n",
    "        for _ in range(max_new_tokens):\n",
    "            idx_cond = idx[:, -block_size:]\n",
    "            logits, loss = self(idx_cond)\n",
    "            logits = logits[:, -1, :]\n",
    "            probs = F.softmax(logits, dim=-1)\n",
    "            idx_next = torch.multinomial(probs, num_samples=1) # (B, 1)\n",
    "            idx = torch.cat((idx, idx_next), dim=1) # (B, T+1)\n",
    "        return idx"
   ]
  },
  {
   "cell_type": "markdown",
   "metadata": {},
   "source": [
    "Create the language model and output its parameters. "
   ]
  },
  {
   "cell_type": "code",
   "execution_count": 11,
   "metadata": {},
   "outputs": [
    {
     "name": "stdout",
     "output_type": "stream",
     "text": [
      "35.346944 M parameters\n"
     ]
    }
   ],
   "source": [
    "model = LanguageModel()\n",
    "m = model.to(device)\n",
    "# print the number of parameters in the model\n",
    "print(sum(p.numel() for p in m.parameters())/1e6, 'M parameters')"
   ]
  },
  {
   "cell_type": "markdown",
   "metadata": {},
   "source": [
    "### Data Loading\n",
    "\n",
    "Load a data batch for training for any split(train or validation)"
   ]
  },
  {
   "cell_type": "code",
   "execution_count": 12,
   "metadata": {},
   "outputs": [],
   "source": [
    "def get_batch(split):\n",
    "    data = train_data if split == 'train' else val_data\n",
    "    ix = torch.randint(len(data) - block_size, (batch_size,))\n",
    "    x = torch.stack([data[i:i+block_size] for i in ix])\n",
    "    y = torch.stack([data[i+1:i+block_size+1] for i in ix])\n",
    "    x, y = x.to(device), y.to(device)\n",
    "    return x, y"
   ]
  },
  {
   "cell_type": "markdown",
   "metadata": {},
   "source": [
    "### Losss Estimate\n",
    "Estimate the loss of a machine learning model for both training and validation datasets. It's much more sincere to look at multiple batches of predictions, calculate each loss and average them out"
   ]
  },
  {
   "cell_type": "code",
   "execution_count": 13,
   "metadata": {},
   "outputs": [],
   "source": [
    "# Loss\n",
    "@torch.no_grad()\n",
    "def estimate_loss():\n",
    "    out = {}\n",
    "    model.eval()\n",
    "    for split in ['train', 'val']:\n",
    "        losses = torch.zeros(eval_iters)\n",
    "        for k in range(eval_iters):\n",
    "            X, Y = get_batch(split)\n",
    "            logits, loss = model(X, Y)\n",
    "            losses[k] = loss.item()\n",
    "        out[split] = losses.mean()\n",
    "    model.train()\n",
    "    return out\n"
   ]
  },
  {
   "cell_type": "markdown",
   "metadata": {},
   "source": [
    "### Expriment\n",
    "Optimizer the model."
   ]
  },
  {
   "cell_type": "code",
   "execution_count": 14,
   "metadata": {},
   "outputs": [
    {
     "name": "stdout",
     "output_type": "stream",
     "text": [
      "step 0: train loss 10.5453, val loss 10.5654\n",
      "step 500: train loss 5.4757, val loss 5.6066\n",
      "step 1000: train loss 4.7350, val loss 5.0214\n",
      "step 1500: train loss 4.3967, val loss 4.7420\n",
      "step 2000: train loss 4.1722, val loss 4.5712\n",
      "step 2500: train loss 3.9917, val loss 4.4723\n",
      "step 3000: train loss 3.8334, val loss 4.3799\n",
      "step 3500: train loss 3.6946, val loss 4.2943\n",
      "step 4000: train loss 3.5621, val loss 4.2346\n",
      "step 4500: train loss 3.4434, val loss 4.1792\n",
      "step 4999: train loss 3.3480, val loss 4.1643\n"
     ]
    }
   ],
   "source": [
    "# create a PyTorch optimizer\n",
    "optimizer = torch.optim.AdamW(model.parameters(), lr=learning_rate)\n",
    "\n",
    "train_losses = []\n",
    "val_losses = []\n",
    "\n",
    "for iter in range(max_iters):\n",
    "\n",
    "    # every once in a while evaluate the loss on train and val sets\n",
    "    if iter % eval_interval == 0 or iter == max_iters - 1:\n",
    "        losses = estimate_loss()\n",
    "        print(f\"step {iter}: train loss {losses['train']:.4f}, val loss {losses['val']:.4f}\")\n",
    "        train_losses.append(losses['train'].item())\n",
    "        val_losses.append(losses['val'].item())\n",
    "\n",
    "    # sample a batch of data\n",
    "    xb, yb = get_batch('train')\n",
    "\n",
    "    # evaluate the loss\n",
    "    logits, loss = model(xb, yb)\n",
    "    optimizer.zero_grad(set_to_none=True)\n",
    "    loss.backward()\n",
    "    optimizer.step()"
   ]
  },
  {
   "cell_type": "markdown",
   "metadata": {},
   "source": [
    "Draw the loss curve during the training progress."
   ]
  },
  {
   "cell_type": "code",
   "execution_count": 15,
   "metadata": {},
   "outputs": [
    {
     "data": {
      "image/png": "[encoded data removed]",
      "text/plain": [
       "<Figure size 640x480 with 1 Axes>"
      ]
     },
     "metadata": {},
     "output_type": "display_data"
    }
   ],
   "source": [
    "iterations = np.arange(0, max_iters+1, eval_interval)\n",
    "plt.plot(iterations, train_losses, label='Train Loss')\n",
    "plt.plot(iterations, val_losses, label='Validation Loss')\n",
    "plt.xlabel('Iterations')\n",
    "plt.ylabel('Loss')\n",
    "plt.title('Training and Validation Losses over Iterations')\n",
    "plt.legend()\n",
    "plt.show()"
   ]
  },
  {
   "cell_type": "markdown",
   "metadata": {},
   "source": [
    "Generate some sentences."
   ]
  },
  {
   "cell_type": "code",
   "execution_count": 16,
   "metadata": {},
   "outputs": [
    {
     "name": "stdout",
     "output_type": "stream",
     "text": [
      "<unk> ; shall die and the English crown,\n",
      "Briek-cour. Let me well:\n",
      "Hence to our skot.\n",
      "\n",
      "FRIAR LAURENVOLIO:\n",
      "Thus, noble sudden!\n",
      "Why, let it call them be my tro grandamous heaven\n",
      "And our marriage too muchced me twain's eyes,\n",
      "Which, f foot lance; and sweet sir,\n",
      "Or pay thine or we will inform hath help at our lady'd:\n",
      "'d\n",
      "If we have any reign, brats, to woul fight against his life,\n",
      "In fool depends be impeaceides no cause\n",
      "With very perhaps.\n",
      "\n",
      "FENVOLIO:\n",
      "But are as wonderful, 'Sitting woo's call'd.\n",
      "\n",
      "Thou art body? why I have done so pass me not?\n",
      "\n",
      "BENVOLIO:\n",
      "O, truly bawd not, God,\n",
      "I have to the enrich end, two dangerControlsful king,\n",
      "As felt Henry you have made us,\n",
      "Can steeds.\n",
      "Volsce will live within again to the English a crushion of\n",
      "agems\n",
      "Of a true service, if none be revengeance, unless:\n",
      "Make itingsområ by.\n",
      "\n",
      "Both give my cousin I am to see me sound:\n",
      "If I revenge!\n",
      "What, speaking now with you cannot choose woo your gaol hardly\n",
      "The king\n",
      "Though Edward bleble nurse toaze, and leave and dissests,\n",
      "Even and immediate cast hard-made her kiss it.\n",
      "\n",
      "God, mother, as to name is well from the child.'\n",
      "O wonderful reason against her face\n",
      "Of go with such subathe hours. Whoiles the flower-day occasion,\n",
      "If\n",
      "Thine seems their age to shroudless cousin:\n",
      "I may go thou behold her grief may make all you take her\n",
      "I have well proceeded for I shall obey'?\n",
      "\n",
      " ere yours shall this natural lord.\n",
      "\n",
      "ROMEO:\n",
      "Bear me be sover to follow his high book,\n",
      "And his hand. You gold his strength my lord, shecio and send me from us;\n",
      "O his holy rogue,\n",
      "Which is the one more louding ha'er be moved's;\n",
      "I's so son and his fiery humumn\n",
      "Of laREGtwaser a prate and bid modest of tiger't.\n",
      "That he in my lord, let it the heavy times as I speak.\n",
      "As I'll pull'll lean.\n",
      "\n",
      "HASTING RICHARD II:\n",
      "ROKE:\n",
      "How she'd the utter'd some old Gaunt, and traditional.\n",
      "\n",
      "PRINAlack flesh?\n",
      "\n",
      "JULET:\n",
      "But your my father, let's hope is meeting tale\n",
      "That sound and despairful charities love till God we be,\n",
      "To make heavenenes have heard the coronency bears.\n",
      "HENCE EDWARDINE:\n",
      "Beseech your son?\n",
      "\n",
      "Nay not sorrow, fair Bianca, my marriage too thou!\n",
      "My blood? stone, madam'swe with his.\n",
      "\n",
      "HENRY BOLINGBROKE:\n",
      "Not letters, false wert here heart sworn for I mean it, in brief,--I swear,\n",
      "For she have run to cut powerful-facest to claim\n",
      "Someconstruct with a saueten good sit.\n",
      "\n",
      "N OF A treas from mine; now to stir-back's fiery,\n",
      "My noble soul is and wings do me reap tears use but and wakes.\n",
      "\n",
      "JULIET:\n",
      "Go, sit my nurse,\n",
      "Which to my name I once restore.\n",
      "Holy thee still have I unborn me grants,\n",
      "So said so, then:\n",
      "But stake thy father'd with death,\n",
      "Or cheerbehind is once more than the fire\n",
      "To answer 'twas matters but she be gone, do babes:\n",
      "Sirinius it be remembered she drew,\n",
      "So not the last or elseBus living bab'd in their bones\n",
      "In mill givler-moaning, though it is time\n",
      "That it were given to read so quickly to my grief?\n",
      "\n",
      "Lie my:\n",
      "Thus too blest, and thou not concluded!\n",
      "And I mustdo much of defence! I'll learn:\n",
      "Nay, to thee heaven, fortune wounded were a horse;\n",
      "And send the very talluckerAND-glassyl,\n",
      "Most thou wardenerate'st gone, while I cheeks in the counterpoorest\n"
     ]
    }
   ],
   "source": [
    "context = torch.zeros((1, 1), dtype=torch.long, device=device)\n",
    "print(decode(m.generate(context, max_new_tokens=1000)[0].tolist()))"
   ]
  }
 ],
 "metadata": {
  "kernelspec": {
   "display_name": "ml",
   "language": "python",
   "name": "python3"
  },
  "language_info": {
   "codemirror_mode": {
    "name": "ipython",
    "version": 3
   },
   "file_extension": ".py",
   "mimetype": "text/x-python",
   "name": "python",
   "nbconvert_exporter": "python",
   "pygments_lexer": "ipython3",
   "version": "3.11.9"
  }
 },
 "nbformat": 4,
 "nbformat_minor": 2
}
